{
 "cells": [
  {
   "cell_type": "markdown",
   "id": "1f35580e",
   "metadata": {},
   "source": [
    "<html><font size=6><B>3η εργαστηριακή άσκηση</B><BR>\n",
    "    <BR><B>Link prediction - Πρόβλεψη συνδέσμων</B></BR>\n",
    "    </font></html>"
   ]
  },
  {
   "cell_type": "markdown",
   "id": "b30af479",
   "metadata": {},
   "source": [
    "<html><font size=4><B>1. Κατασκευή γράφου και προεργασία για την πρόβλεψη συνδέσμων</B></font>\n",
    "    <li><B>1(i).</B> Χρησιμοποιήστε το dataset <a href=\"http://konect.cc/networks/dbpedia-similar/\"> Similarities (DBpedia)</a>, για να κατασκευάσετε τον μη κατευθυνόμενο (undirected) γράφο $G$ <a href=\"https://dl.acm.org/doi/10.1145/2487788.2488173\">[1]</a>,<a href=\"https://link.springer.com/chapter/10.1007/978-3-540-76298-0_52\">[2]</a>. Οι κόμβοι του γράφου αναπαριστούν σελίδες της Wikipedia και οι ακμές σχέση ομοιότητας μεταξύ τους. Στην σελίδα <a href=\"http://konect.cc/networks/dbpedia-similar/\"> KONECT (DBpedia)</a> μπορείτε να βρείτε πληροφορίες για τις ιδιότητες του γράφου.</a><BR>\n",
    "        <B><U>Υπόδειξη:</U></B> Μπορείτε να ελέγξετε προγραμματιστικά αν το dataset περιέχει διπλότυπα των ακμών με την ίδια ή αντίστροφη σειρά (π.χ. ακμές (a,b) και (b,a)), και να λάβετε υπ' όψιν σας αυτήν σας την παρατήρηση, όπου τυχόν χρειαστεί, στην ερώτηση 2.<BR></html>"
   ]
  },
  {
   "cell_type": "markdown",
   "id": "4bd79bac",
   "metadata": {},
   "source": [
    " <li><B>1(ii).</B> Εμφανίστε τον αριθμό των κόμβων, τον αριθμό των ακμών, τον μέσο βαθμό των κόμβων και τον αριθμό των συνεκτικών συνιστωσών (connected components) για τον γράφο $G$.</li><BR>"
   ]
  },
  {
   "cell_type": "code",
   "execution_count": 1,
   "id": "5c03ff39",
   "metadata": {},
   "outputs": [],
   "source": [
    "import networkx as nx\n",
    "from typing import List, Tuple, Set\n",
    "import numpy as np\n",
    "import pandas as pd\n",
    "import matplotlib.pyplot as plt\n",
    "import seaborn as sns"
   ]
  },
  {
   "cell_type": "code",
   "execution_count": 2,
   "id": "334227ef",
   "metadata": {},
   "outputs": [],
   "source": [
    "file = \"out.dbpedia-similar\"\n",
    "G = nx.read_edgelist(path=file, comments=\"%\")"
   ]
  },
  {
   "cell_type": "code",
   "execution_count": 3,
   "id": "ad01690b",
   "metadata": {},
   "outputs": [],
   "source": [
    "integers_to_nodes = {i: node for i, node in enumerate(G.nodes)}"
   ]
  },
  {
   "cell_type": "code",
   "execution_count": 4,
   "id": "48fa5fc9",
   "metadata": {},
   "outputs": [],
   "source": [
    "# Custom Function for printing Info about the graph\n",
    "def graph_info(G: nx.Graph):\n",
    "    print(f\"Number of nodes of the graph: {len(G.nodes())}\")\n",
    "    print(f\"Number of edges of the graph: {G.number_of_edges()}\")\n",
    "    deg_cen = dict(nx.degree(G))\n",
    "    c = pd.DataFrame({\"node\": deg_cen.keys(), \"degree\": deg_cen.values()}).set_index(\"node\")\n",
    "    m = c[\"degree\"].mean()\n",
    "    print(f\"Mean degree of graph: {m}\")\n",
    "    n = nx.number_connected_components(G)\n",
    "    print(f\"number of connected components of this graph: {n}\")"
   ]
  },
  {
   "cell_type": "code",
   "execution_count": 5,
   "id": "9277a4e2",
   "metadata": {},
   "outputs": [
    {
     "name": "stdout",
     "output_type": "stream",
     "text": [
      "Number of nodes of the graph: 430\n",
      "Number of edges of the graph: 565\n",
      "Mean degree of graph: 2.627906976744186\n",
      "number of connected components of this graph: 95\n"
     ]
    }
   ],
   "source": [
    "# Print info\n",
    "graph_info(G)"
   ]
  },
  {
   "cell_type": "code",
   "execution_count": 6,
   "id": "ce4a642a",
   "metadata": {},
   "outputs": [],
   "source": [
    "# Remove self loops\n",
    "G.remove_edges_from(nx.selfloop_edges(G))"
   ]
  },
  {
   "cell_type": "markdown",
   "id": "bf03f6b9",
   "metadata": {},
   "source": [
    "<li><B>1(iii). </B>Υπολογίστε το σύνολο των ασύνδετων ζευγών κόμβων (unconnected pairs) στον γράφο χρησιμοποιώντας τον πίνακα γειτνίασης (adjacency matrix). Δώστε επίσης τον αριθμό τους. Λάβετε υπ' όψιν σας ότι ο γράφος είναι μη κατευθυνόμενος και δεν χρειάζεται να διατρέξετε ολόκληρο τον πίνακα γειτνίασης.</li><BR>"
   ]
  },
  {
   "cell_type": "code",
   "execution_count": 7,
   "id": "c90e1228",
   "metadata": {},
   "outputs": [],
   "source": [
    "# A custom function to find the\n",
    "# set of unconnected pairs\n",
    "def unconnected_pairs(G: nx.Graph, mapping: dict) -> List[Tuple[int, int]]:\n",
    "    adj = nx.to_numpy_array(G)\n",
    "    indices = list(zip(*np.where(adj == 0)))\n",
    "    return [(mapping[i], mapping[j]) for i, j in indices if i < j]  # Upper triangular\n"
   ]
  },
  {
   "cell_type": "code",
   "execution_count": 8,
   "id": "11662811",
   "metadata": {},
   "outputs": [
    {
     "name": "stdout",
     "output_type": "stream",
     "text": [
      "('1', '6')\n",
      "('1', '46')\n",
      "('1', '47')\n",
      "('1', '48')\n",
      "('1', '32')\n",
      "('1', '49')\n",
      "('1', '7')\n",
      "('1', '8')\n",
      "('1', '9')\n",
      "('1', '10')\n",
      "- Number of unconnected pairs: 91671\n"
     ]
    }
   ],
   "source": [
    "unc_pairs = unconnected_pairs(G, integers_to_nodes)\n",
    "# Show 10 pairs that are not connected\n",
    "for i in range(10):\n",
    "    print(unc_pairs[i])\n",
    "print(f\"- Number of unconnected pairs: {len(unc_pairs)}\")"
   ]
  },
  {
   "cell_type": "markdown",
   "id": "154c2a8d",
   "metadata": {},
   "source": [
    "<li><B>1(iv).</B> Υπολογίστε το σύνολο των ακμών (removable edges) που μπορούν να αφαιρεθούν από τον γράφο χωρίς να υπάρχει κατάτμηση (splitting) του γράφου (δηλ. ο αριθμός των συνεκτικών συνιστωσών θα πρέπει να παραμένει αμετάβλητος). Υπόδειξη: Ελέγχετε επίσης ότι με αφαίρεση ακμής δεν μειώνεται ο αριθμός των κόμβων (εφόσον δεν υπάρχει ξεχωριστό αρχείο μόνο με κόμβους στο dataset). Δώστε επίσης τον αριθμό των ακμών (removable edges) που μπορούν να αφαιρεθούν υπό αυτές τις προϋποθέσεις.</li><BR>"
   ]
  },
  {
   "cell_type": "code",
   "execution_count": 9,
   "id": "d4cd6843",
   "metadata": {},
   "outputs": [],
   "source": [
    "def removable_edges(G: nx.Graph) -> List[Tuple[int,int]]:\n",
    "    G_temp = G.copy()\n",
    "    removable = []\n",
    "    for u,v in G.edges:\n",
    "        G_temp.remove_edge(u,v)\n",
    "        if nx.number_connected_components(G_temp) == nx.number_connected_components(G):\n",
    "            removable.append((u, v))\n",
    "        else:\n",
    "            G_temp.add_edge(u,v)\n",
    "    return removable"
   ]
  },
  {
   "cell_type": "code",
   "execution_count": 10,
   "id": "34f435e1",
   "metadata": {},
   "outputs": [
    {
     "name": "stdout",
     "output_type": "stream",
     "text": [
      "The number of removable edges are: 229\n"
     ]
    }
   ],
   "source": [
    "rm_edges = removable_edges(G)\n",
    "print(f\"The number of removable edges are: {len(rm_edges)}\")"
   ]
  },
  {
   "cell_type": "markdown",
   "id": "eb03d745",
   "metadata": {},
   "source": [
    "<li><B>1(vα).</B> Κατασκευάστε dataframe που συνενώνει τις απαντήσεις των ερωτημάτων 1(iii) και 1(iv) (unconnected+removables). Χρησιμοποιήστε την μεταβλητή $link$ που θα παίρνει τιμή 1 ή 0 ανάλογα με την ύπαρξη συνδέσμου ή μη. To dataframe αυτό συγκεντρώνει τα θετικά και αρνητικά δείγματα για την πρόβλεψη των μελλοντικών συνδέσεων (link: target variable). <BR>\n",
    "    <li><B>1(vβ).</B> Κατασκευάστε τον γράφο $G'$ που προκύπτει από την αφαίρεση από τον γράφο $G$ των ακμών του ερωτήματος 1(iv). <BR>\n",
    "    <li><B>1(vγ).</B> Εμφανίστε τον αριθμό των κόμβων, τον αριθμό των ακμών, τον μέσο βαθμό των κόμβων και τον αριθμό των συνεκτικών συνιστωσών (connected components) για τον γράφο $G'$.</li><BR>"
   ]
  },
  {
   "cell_type": "code",
   "execution_count": 11,
   "id": "e128facc",
   "metadata": {},
   "outputs": [],
   "source": [
    "def generate_data(unconnected: List, removable: List) -> pd.DataFrame:\n",
    "    return pd.DataFrame({'edges': unconnected + removable, 'link': [0] * len(unconnected) + [1] * len(removable)})"
   ]
  },
  {
   "cell_type": "code",
   "execution_count": 12,
   "id": "21608d60",
   "metadata": {},
   "outputs": [
    {
     "data": {
      "text/html": [
       "<div>\n",
       "<style scoped>\n",
       "    .dataframe tbody tr th:only-of-type {\n",
       "        vertical-align: middle;\n",
       "    }\n",
       "\n",
       "    .dataframe tbody tr th {\n",
       "        vertical-align: top;\n",
       "    }\n",
       "\n",
       "    .dataframe thead th {\n",
       "        text-align: right;\n",
       "    }\n",
       "</style>\n",
       "<table border=\"1\" class=\"dataframe\">\n",
       "  <thead>\n",
       "    <tr style=\"text-align: right;\">\n",
       "      <th></th>\n",
       "      <th>edges</th>\n",
       "      <th>link</th>\n",
       "    </tr>\n",
       "  </thead>\n",
       "  <tbody>\n",
       "    <tr>\n",
       "      <th>0</th>\n",
       "      <td>(1, 6)</td>\n",
       "      <td>0</td>\n",
       "    </tr>\n",
       "    <tr>\n",
       "      <th>1</th>\n",
       "      <td>(1, 46)</td>\n",
       "      <td>0</td>\n",
       "    </tr>\n",
       "    <tr>\n",
       "      <th>2</th>\n",
       "      <td>(1, 47)</td>\n",
       "      <td>0</td>\n",
       "    </tr>\n",
       "    <tr>\n",
       "      <th>3</th>\n",
       "      <td>(1, 48)</td>\n",
       "      <td>0</td>\n",
       "    </tr>\n",
       "    <tr>\n",
       "      <th>4</th>\n",
       "      <td>(1, 32)</td>\n",
       "      <td>0</td>\n",
       "    </tr>\n",
       "    <tr>\n",
       "      <th>...</th>\n",
       "      <td>...</td>\n",
       "      <td>...</td>\n",
       "    </tr>\n",
       "    <tr>\n",
       "      <th>91895</th>\n",
       "      <td>(401, 403)</td>\n",
       "      <td>1</td>\n",
       "    </tr>\n",
       "    <tr>\n",
       "      <th>91896</th>\n",
       "      <td>(401, 404)</td>\n",
       "      <td>1</td>\n",
       "    </tr>\n",
       "    <tr>\n",
       "      <th>91897</th>\n",
       "      <td>(402, 403)</td>\n",
       "      <td>1</td>\n",
       "    </tr>\n",
       "    <tr>\n",
       "      <th>91898</th>\n",
       "      <td>(402, 404)</td>\n",
       "      <td>1</td>\n",
       "    </tr>\n",
       "    <tr>\n",
       "      <th>91899</th>\n",
       "      <td>(403, 404)</td>\n",
       "      <td>1</td>\n",
       "    </tr>\n",
       "  </tbody>\n",
       "</table>\n",
       "<p>91900 rows × 2 columns</p>\n",
       "</div>"
      ],
      "text/plain": [
       "            edges  link\n",
       "0          (1, 6)     0\n",
       "1         (1, 46)     0\n",
       "2         (1, 47)     0\n",
       "3         (1, 48)     0\n",
       "4         (1, 32)     0\n",
       "...           ...   ...\n",
       "91895  (401, 403)     1\n",
       "91896  (401, 404)     1\n",
       "91897  (402, 403)     1\n",
       "91898  (402, 404)     1\n",
       "91899  (403, 404)     1\n",
       "\n",
       "[91900 rows x 2 columns]"
      ]
     },
     "execution_count": 12,
     "metadata": {},
     "output_type": "execute_result"
    }
   ],
   "source": [
    "# Creating dataframe\n",
    "df = generate_data(unconnected=unc_pairs, removable=rm_edges)\n",
    "df"
   ]
  },
  {
   "cell_type": "code",
   "execution_count": 13,
   "id": "548517a4",
   "metadata": {},
   "outputs": [
    {
     "name": "stdout",
     "output_type": "stream",
     "text": [
      "Number of nodes in initial Graph:564\n",
      "Number of edges in graph without removale edges:335\n"
     ]
    }
   ],
   "source": [
    "G_prime = G.copy()\n",
    "G_prime.remove_edges_from(rm_edges)\n",
    "print(f\"Number of nodes in initial Graph:{len(G.edges)}\")\n",
    "print(f\"Number of edges in graph without removale edges:{len(G_prime.edges)}\")"
   ]
  },
  {
   "cell_type": "code",
   "execution_count": 14,
   "id": "adf69dae",
   "metadata": {},
   "outputs": [
    {
     "name": "stdout",
     "output_type": "stream",
     "text": [
      "Number of nodes of the graph: 430\n",
      "Number of edges of the graph: 335\n",
      "Mean degree of graph: 1.558139534883721\n",
      "number of connected components of this graph: 95\n"
     ]
    }
   ],
   "source": [
    "# Inspect G'\n",
    "graph_info(G_prime)"
   ]
  },
  {
   "cell_type": "markdown",
   "id": "184eae57",
   "metadata": {},
   "source": [
    "<html><font size=4><B>2. Εισαγωγή σε similarity-based μετρικές για Link prediction</B></font><BR><BR>\n",
    "     <li> Η μετρική <B>Jaccard Coefficient (JC)</B> των κόμβων ${u}$ και ${v}$ ορίζεται ως $\\frac{|\\Gamma(u) \\cap \\Gamma(v)|}{|\\Gamma(u) \\cup \\Gamma(v)|}$, όπου ${\\Gamma(u)}$ είναι το σύνολο των γειτονικών κόμβων του κόμβου ${u}$.  <B></B>\n",
    "        <li> Η μετρική <B>Preferential Αttachment (PA)</B> των κόμβων $u$ και $v$ ορίζεται ως $|\\Gamma(u)| |\\Gamma(v)|$, όπου $\\Gamma(u)$ είναι το σύνολο των γειτονικών κόμβων του $u$.</li>\n",
    "        <li> Η μετρική <B>Resource Allocation (RA)</B> των κόμβων $u$ και $v$ ορίζεται ως $\\sum_{w \\in \\Gamma(u) \\cap \\Gamma(v)} \\frac{1}{|\\Gamma(w)|}$, όπου $\\Gamma(u)$ είναι το σύνολο των γειτονικών κόμβων του $u$.</li><BR><BR>\n",
    "    <li><B>2(i).</B> Για τον γράφο $G'$, που κατασκευάσατε στο ερώτημα 1(vβ), υπολογίστε την μετρική <B>Jaccard Coefficient (JC)</B>.  <u><a href=\"https://networkx.org/documentation/stable/reference/algorithms/link_prediction.html?highlight=link%20prediction\">Χρησιμοποιήστε την υλοποιημένη συνάρτηση του λογισμικού NetworkX.<a></u> <BR><BR>\n",
    "    <li><B>2(ii). </B>Δώστε τις $k$ ακμές με την υψηλότερη τιμή μετρικής $JC$, όπου $k$ ο $Α.Μ.$ σας $mod$ $10$. Για $Α.Μ.$ λήγοντα σε $0$ δώστε τις $10$ ακμές με την υψηλότερη τιμή μετρικής.\n",
    "        (Για την σύγκριση μεταξύ διαφορετικών μετρικών προτιμάται η εύρεση των $k$ επικρατέστερων συνδέσμων, αφού οι μετρικές επιστρέφουν διαφορετικό εύρος τιμών.)</li><BR>\n",
    "    <li><B>2(iii). </B>Προσδιορίστε για την μέτρηση της απόδοσης της μετρικής $JC$ τα μεγέθη $Precision$, $Recall$ και $Accuracy$ και αναπαραστήστε τα γραφικά για τιμές κατωφλίου: $0.1$, $0.15$, $0.25$, $0.5$, $1.0$.  <BR><BR>\n",
    "    $Precision=\\frac{TP}{TP+FP}$, όπου $TP$: αληθώς θετικά αποτελέσματα, $FP$: ψευδώς θετικά αποτελέσματα <BR>\n",
    "    $Recall=\\frac{TP}{TP+FN}$, όπου $TP$: αληθώς θετικά αποτελέσματα, $FN$: ψευδώς αρνητικά αποτελέσματα</li> \n",
    "    $Accuracy=\\frac{TP+TN}{TP+FN+TN+FP}$, όπου $TP$: αληθώς θετικά αποτελέσματα, $TN$: αληθώς αρνητικά αποτελέσματα, $FN$: ψευδώς αρνητικά αποτελέσματα, $FP$: ψευδώς θετικά αποτελέσματα</li><BR><BR>\n",
    "        <B><U>Υπόδειξη:</U></B>\n",
    "        Θετικό θεωρήστε ένα αποτέλεσμα, αν η μετρική $JC$ υπερβαίνει μια τιμή κατωφλίου (>=). Αρνητικό θεωρήστε το στην αντίθετη περίπτωση.\n",
    "        <li>Αληθώς θετικά είναι τα αποτελέσματα που βγήκαν θετικά (η τιμή της $JC$ υπερβαίνει την τιμή κατωφλίου) και πράγματι θα υπάρξουν οι συνδέσεις που περιγράφουν (ερ. 1(iv)).</li>\n",
    "        <li>Αληθώς αρνητικά είναι τα αποτελέσματα που βγήκαν αρνητικά και πράγματι δεν θα υπάρξουν οι συνδέσεις που περιγράφουν (ερ. 1(iii)).</li>\n",
    "        <li>Ψευδώς θετικά είναι τα αποτελέσματα που βγήκαν θετικά, ενώ δεν θα υπάρξουν οι συνδέσεις που περιγράφουν.</li>\n",
    "        <li>Ψευδώς αρνητικά είναι τα αποτελέσματα που βγήκαν αρνητικά, ενώ θα υπάρξουν οι συνδέσεις που περιγράφουν.</li>\n",
    "        <li>Το άθροισμα $TN+FP$ πρέπει κάθε φορά να σας δίνει όλες τις ασύνδετες ακμές του γράφου $G$.</li>   \n",
    "<li>Από το ερώτημα 1(iii) οι ακμές που υπολογίσατε είναι αυτές για τις οποίες δεν θα υπάρξουν συνδέσεις.</li> <li>Από το ερώτημα 1(iv) οι ακμές που υπολογίσατε είναι αυτές για τις οποίες θα υπάρξουν συνδέσεις.</li><BR></html>"
   ]
  },
  {
   "cell_type": "code",
   "execution_count": 15,
   "id": "d8b0d5fd",
   "metadata": {},
   "outputs": [],
   "source": [
    "#def JCfunction(threshold_jc):   #uncomment and complete\n",
    "#return recall_jc, precision_jc, accuracy_jc; #uncomment and complete\n",
    "from sklearn import metrics\n",
    "\n",
    "\n",
    "def JCfunction(G: nx.Graph, df: pd.DataFrame, threshold_jc: float):\n",
    "    k = int('03400146') % 10\n",
    "    edges = list(map(lambda x: (str(x[0]), str(x[1])), df['edges']))\n",
    "    p_iter = nx.jaccard_coefficient(G, edges)\n",
    "    y_pred, ps = [], []\n",
    "    y_true = list(df['link'])\n",
    "    pos, neg, highest_ps = [], [], []\n",
    "    for u, v, p in p_iter:\n",
    "        if p >= threshold_jc:\n",
    "            y_pred.append(1)\n",
    "        else:\n",
    "            y_pred.append(0)\n",
    "        ps.append(p)\n",
    "\n",
    "    accuracy_jc = metrics.accuracy_score(y_true, y_pred)\n",
    "    precision_jc = metrics.precision_score(y_true, y_pred)\n",
    "    recall_jc = metrics.recall_score(y_true, y_pred)\n",
    "    res = sorted(list(zip(edges, ps)), key=lambda x: x[1], reverse=True)\n",
    "\n",
    "    return recall_jc, precision_jc, accuracy_jc, res[:k]\n"
   ]
  },
  {
   "cell_type": "code",
   "execution_count": 16,
   "id": "71bef3cc",
   "metadata": {},
   "outputs": [],
   "source": [
    "thresholds = [0.1, 0.15, 0.25, 0.5, 1]\n",
    "recalls = []\n",
    "precisions = []\n",
    "accuracies = []"
   ]
  },
  {
   "cell_type": "code",
   "execution_count": 17,
   "id": "e6a0bd96",
   "metadata": {},
   "outputs": [
    {
     "name": "stdout",
     "output_type": "stream",
     "text": [
      "\n",
      "-----> Results for threshold 0.1<-----\n",
      "Recall:0.7074\n",
      "Precision:0.3208\n",
      "Accuracy:0.9955\n",
      "Nodes with highest jaccard coefficient:\n",
      "Edge: (4,46)-->1.0\n",
      "Edge: (4,47)-->1.0\n",
      "Edge: (4,49)-->1.0\n",
      "Edge: (46,47)-->1.0\n",
      "Edge: (46,49)-->1.0\n",
      "Edge: (47,49)-->1.0\n",
      "\n",
      "-----> Results for threshold 0.15<-----\n",
      "Recall:0.6900\n",
      "Precision:0.3244\n",
      "Accuracy:0.9956\n",
      "Nodes with highest jaccard coefficient:\n",
      "Edge: (4,46)-->1.0\n",
      "Edge: (4,47)-->1.0\n",
      "Edge: (4,49)-->1.0\n",
      "Edge: (46,47)-->1.0\n",
      "Edge: (46,49)-->1.0\n",
      "Edge: (47,49)-->1.0\n",
      "\n",
      "-----> Results for threshold 0.25<-----\n",
      "Recall:0.6769\n",
      "Precision:0.3460\n",
      "Accuracy:0.9960\n",
      "Nodes with highest jaccard coefficient:\n",
      "Edge: (4,46)-->1.0\n",
      "Edge: (4,47)-->1.0\n",
      "Edge: (4,49)-->1.0\n",
      "Edge: (46,47)-->1.0\n",
      "Edge: (46,49)-->1.0\n",
      "Edge: (47,49)-->1.0\n",
      "\n",
      "-----> Results for threshold 0.5<-----\n",
      "Recall:0.6026\n",
      "Precision:0.4169\n",
      "Accuracy:0.9969\n",
      "Nodes with highest jaccard coefficient:\n",
      "Edge: (4,46)-->1.0\n",
      "Edge: (4,47)-->1.0\n",
      "Edge: (4,49)-->1.0\n",
      "Edge: (46,47)-->1.0\n",
      "Edge: (46,49)-->1.0\n",
      "Edge: (47,49)-->1.0\n",
      "\n",
      "-----> Results for threshold 1<-----\n",
      "Recall:0.5502\n",
      "Precision:0.5101\n",
      "Accuracy:0.9976\n",
      "Nodes with highest jaccard coefficient:\n",
      "Edge: (4,46)-->1.0\n",
      "Edge: (4,47)-->1.0\n",
      "Edge: (4,49)-->1.0\n",
      "Edge: (46,47)-->1.0\n",
      "Edge: (46,49)-->1.0\n",
      "Edge: (47,49)-->1.0\n"
     ]
    }
   ],
   "source": [
    "for thr in thresholds:\n",
    "    rc, pr, acc, l = JCfunction(G_prime, df, thr)\n",
    "    recalls.append(rc)\n",
    "    precisions.append(pr)\n",
    "    accuracies.append(acc)\n",
    "    print(f\"\\n{5*'-'}> Results for threshold {thr}<{5*'-'}\")\n",
    "    print(f\"Recall:{rc:.4f}\\nPrecision:{pr:.4f}\\nAccuracy:{acc:.4f}\")\n",
    "    print(\"Nodes with highest jaccard coefficient:\")\n",
    "    for (u, v), p in l:\n",
    "        print(f\"Edge: ({u},{v})-->{p}\")"
   ]
  },
  {
   "cell_type": "code",
   "execution_count": 18,
   "id": "c1d07eae",
   "metadata": {},
   "outputs": [
    {
     "data": {
      "image/png": "[encoded data removed]",
      "text/plain": [
       "<Figure size 700x500 with 1 Axes>"
      ]
     },
     "metadata": {},
     "output_type": "display_data"
    }
   ],
   "source": [
    "sns.set_style(\"dark\")\n",
    "fig, ax = plt.subplots(figsize=(7, 5))\n",
    "ax.plot(thresholds, accuracies, label='Accuracy')\n",
    "ax.plot(thresholds, precisions, label='Precision')\n",
    "ax.plot(thresholds, recalls, label='Recall')\n",
    "plt.legend()\n",
    "plt.show()\n"
   ]
  },
  {
   "attachments": {},
   "cell_type": "markdown",
   "id": "f2147c8c",
   "metadata": {},
   "source": [
    "Όπως βλέπουμε και από το παραπάνω σχήμα η τιμή στη μετρική accuracy είναι κοντά στο 1 ανεξάρτητα από την τιμή του threshold. Αυτό συμβαίνει διότι το σύνολο των δεδομένων είναι μη ισορροπημένο καθώς τα περισσότερα ζευγάρια κόμβων δεν συνδέονται με κάποια ακμή. Έτσι, οι μετρικές Precision και Recall είναι καλύτερες για την αξιολόγηση του ταξινομητή στην εν λόγω περίπτωση. Από το παραπάνω διάγραμμα βλέπουμε ότι για μικρές τιμές του threshold έχουμε υψηλό Recall, δηλαδή έχουμε λιγότερα False Negatives, πράγμα το οποίο είναι αναμενόμενο αφού μια ακμή είναι πιο εύκολο να ξεπεράσει το χαμηλό threshold και να ταξινομηθεί στην θετική κλάση και έτσι τα ζευγάρια κόμβων που όντως υπάρχει ακμή μεταξύ τους περνάνε ευκολότερα το threshold. Παρ'όλα αυτά, στις χαμηλές τιμές του threshold βλέπουμε ότι έχουμε χαμηλό Precision που σημαίνει ότι έχουμε αρκετά False Positives και αυτό γιατί ακμές που δεν υπάρχουν κατατάσσονται στην θετική κλάση."
   ]
  },
  {
   "cell_type": "markdown",
   "id": "d432396f",
   "metadata": {},
   "source": [
    "<html><font size=4><B>3. Πρόβλεψη συνδέσμων βάσει similarity-based μετρικών</B></font>    \n",
    "        <li><B>3(i).</B> Προτείνετε μια τουλάχιστον μέθοδο, για να εξερευνήσουμε και να εκφράσουμε μέσα από τα πακέτα NumPy ή SciPy ή Pandas την συσχέτιση (correlation) μεταξύ των τιμών των μετρικών <B>Jaccard Coefficient</B>, <B>Preferential Attachment</B>, <B>Resource Allocation</B> για τον μειωμένο γράφο $G'$. Σημ.: Δεν χρειάζεται κάποια υλοποίηση, μόνο αναφορά της μεθόδου συσχέτισης και επεξήγηση της επιλογής σας.\n",
    "     <li><B>3(ii).</B> Εργαστείτε πάνω σε <B><U>αντίγραφο</U></B> του dataframe που κατασκευάσατε στο ερώτημα 1(vα) (unconnected+removables). Δημιουργήστε στήλη (column) με τις ακμές του γράφου και θέστε την ως index του dataframe. Στο dataframe θα προσθέσετε ως στήλες τις τιμές των μετρικών (<B>Jaccard Coefficient</B>, <B>Preferential Attachment</B>, <B>Resource Allocation</B>) για τον μειωμένο γράφο $G'$. Οι τιμές των μετρικών μπορούν να υπολογιστούν με τις συναρτήσεις του πακέτου NetworkX.</li>   </font></html>\n",
    "    \n",
    "    |       | link  |Jacc.Coeff.|Pr.Attachment| Resource Allocation|\n",
    "    |-------|-------|-----------|-------------|--------------------|\n",
    "    |(1, 6) |  0    |  0.333333 |     32      |    0.700000        |\n",
    "    |(1, 46)|  0    |  0.200000 |      8      |    0.166667        |"
   ]
  },
  {
   "attachments": {},
   "cell_type": "markdown",
   "id": "0cffa9bb",
   "metadata": {},
   "source": [
    "### 3(i)"
   ]
  },
  {
   "attachments": {},
   "cell_type": "markdown",
   "id": "9ca7ef7f",
   "metadata": {},
   "source": [
    "Μια μέθοδος για να εκφράσουμε τη συσχέτιση μεταξύ των τιμών των μετρικών Jaccard Coefficient, Preferential Attachment και Resource Allocation για τον μειωμένο γράφο $G'$ είναι να δημιουργήσουμε το `dataframe` που φαίνεται και στο παραπάνω σχήμα μέσω της βιβλιοθήκης `Pandas` και να χρησιμοποιήσουμε τη μέθοδο `corr` του API του Pandas. Στα επόμενα βλέπουμε πώς κατασκευάζεται το ζητούμενο dataframe αλλά και τη συσχέτιση μεταξύ των τριών μετρικών."
   ]
  },
  {
   "cell_type": "code",
   "execution_count": 61,
   "id": "a0526634",
   "metadata": {},
   "outputs": [],
   "source": [
    "from functools import wraps\n",
    "\n",
    "\n",
    "def wrapping_link_prediction(pred_func):\n",
    "\n",
    "    @wraps(pred_func)\n",
    "    def create_series(G, ebunch, **kwargs):\n",
    "        preds = pred_func(G, ebunch, **kwargs)\n",
    "        edges, vals = [], []\n",
    "        for u, v, p in preds:\n",
    "            edges.append((u, v))\n",
    "            vals.append(p)\n",
    "        s = pd.Series(data=vals, index=edges, name=pred_func.__name__)\n",
    "        return s.loc[ebunch]\n",
    "\n",
    "    return create_series"
   ]
  },
  {
   "cell_type": "code",
   "execution_count": 73,
   "id": "b091ccb1",
   "metadata": {},
   "outputs": [],
   "source": [
    "links = [nx.jaccard_coefficient, nx.preferential_attachment, nx.resource_allocation_index]\n",
    "ground_truths = pd.Series(data=list(df['link']), index=df['edges'])"
   ]
  },
  {
   "cell_type": "code",
   "execution_count": 75,
   "id": "aa697046",
   "metadata": {},
   "outputs": [],
   "source": [
    "df_final = pd.concat(\n",
    "    [ground_truths, *(wrapper(G_prime, df['edges']) for wrapper in map(wrapping_link_prediction, links))], axis=1\n",
    ")\n"
   ]
  },
  {
   "cell_type": "code",
   "execution_count": 76,
   "id": "6f1b1146",
   "metadata": {},
   "outputs": [
    {
     "data": {
      "text/html": [
       "<div>\n",
       "<style scoped>\n",
       "    .dataframe tbody tr th:only-of-type {\n",
       "        vertical-align: middle;\n",
       "    }\n",
       "\n",
       "    .dataframe tbody tr th {\n",
       "        vertical-align: top;\n",
       "    }\n",
       "\n",
       "    .dataframe thead th {\n",
       "        text-align: right;\n",
       "    }\n",
       "</style>\n",
       "<table border=\"1\" class=\"dataframe\">\n",
       "  <thead>\n",
       "    <tr style=\"text-align: right;\">\n",
       "      <th></th>\n",
       "      <th>0</th>\n",
       "      <th>jaccard_coefficient</th>\n",
       "      <th>preferential_attachment</th>\n",
       "      <th>resource_allocation_index</th>\n",
       "    </tr>\n",
       "  </thead>\n",
       "  <tbody>\n",
       "    <tr>\n",
       "      <th>(1, 6)</th>\n",
       "      <td>0</td>\n",
       "      <td>0.0</td>\n",
       "      <td>7</td>\n",
       "      <td>0.000000</td>\n",
       "    </tr>\n",
       "    <tr>\n",
       "      <th>(1, 46)</th>\n",
       "      <td>0</td>\n",
       "      <td>0.0</td>\n",
       "      <td>1</td>\n",
       "      <td>0.000000</td>\n",
       "    </tr>\n",
       "    <tr>\n",
       "      <th>(1, 47)</th>\n",
       "      <td>0</td>\n",
       "      <td>0.0</td>\n",
       "      <td>1</td>\n",
       "      <td>0.000000</td>\n",
       "    </tr>\n",
       "    <tr>\n",
       "      <th>(1, 48)</th>\n",
       "      <td>0</td>\n",
       "      <td>0.5</td>\n",
       "      <td>2</td>\n",
       "      <td>0.500000</td>\n",
       "    </tr>\n",
       "    <tr>\n",
       "      <th>(1, 32)</th>\n",
       "      <td>0</td>\n",
       "      <td>0.0</td>\n",
       "      <td>6</td>\n",
       "      <td>0.000000</td>\n",
       "    </tr>\n",
       "    <tr>\n",
       "      <th>...</th>\n",
       "      <td>...</td>\n",
       "      <td>...</td>\n",
       "      <td>...</td>\n",
       "      <td>...</td>\n",
       "    </tr>\n",
       "    <tr>\n",
       "      <th>(401, 403)</th>\n",
       "      <td>1</td>\n",
       "      <td>1.0</td>\n",
       "      <td>1</td>\n",
       "      <td>0.166667</td>\n",
       "    </tr>\n",
       "    <tr>\n",
       "      <th>(401, 404)</th>\n",
       "      <td>1</td>\n",
       "      <td>1.0</td>\n",
       "      <td>1</td>\n",
       "      <td>0.166667</td>\n",
       "    </tr>\n",
       "    <tr>\n",
       "      <th>(402, 403)</th>\n",
       "      <td>1</td>\n",
       "      <td>1.0</td>\n",
       "      <td>1</td>\n",
       "      <td>0.166667</td>\n",
       "    </tr>\n",
       "    <tr>\n",
       "      <th>(402, 404)</th>\n",
       "      <td>1</td>\n",
       "      <td>1.0</td>\n",
       "      <td>1</td>\n",
       "      <td>0.166667</td>\n",
       "    </tr>\n",
       "    <tr>\n",
       "      <th>(403, 404)</th>\n",
       "      <td>1</td>\n",
       "      <td>1.0</td>\n",
       "      <td>1</td>\n",
       "      <td>0.166667</td>\n",
       "    </tr>\n",
       "  </tbody>\n",
       "</table>\n",
       "<p>91900 rows × 4 columns</p>\n",
       "</div>"
      ],
      "text/plain": [
       "            0  jaccard_coefficient  preferential_attachment  \\\n",
       "(1, 6)      0                  0.0                        7   \n",
       "(1, 46)     0                  0.0                        1   \n",
       "(1, 47)     0                  0.0                        1   \n",
       "(1, 48)     0                  0.5                        2   \n",
       "(1, 32)     0                  0.0                        6   \n",
       "...        ..                  ...                      ...   \n",
       "(401, 403)  1                  1.0                        1   \n",
       "(401, 404)  1                  1.0                        1   \n",
       "(402, 403)  1                  1.0                        1   \n",
       "(402, 404)  1                  1.0                        1   \n",
       "(403, 404)  1                  1.0                        1   \n",
       "\n",
       "            resource_allocation_index  \n",
       "(1, 6)                       0.000000  \n",
       "(1, 46)                      0.000000  \n",
       "(1, 47)                      0.000000  \n",
       "(1, 48)                      0.500000  \n",
       "(1, 32)                      0.000000  \n",
       "...                               ...  \n",
       "(401, 403)                   0.166667  \n",
       "(401, 404)                   0.166667  \n",
       "(402, 403)                   0.166667  \n",
       "(402, 404)                   0.166667  \n",
       "(403, 404)                   0.166667  \n",
       "\n",
       "[91900 rows x 4 columns]"
      ]
     },
     "execution_count": 76,
     "metadata": {},
     "output_type": "execute_result"
    }
   ],
   "source": [
    "df_final"
   ]
  },
  {
   "cell_type": "code",
   "execution_count": 78,
   "id": "a4ba2283",
   "metadata": {},
   "outputs": [
    {
     "data": {
      "text/html": [
       "<div>\n",
       "<style scoped>\n",
       "    .dataframe tbody tr th:only-of-type {\n",
       "        vertical-align: middle;\n",
       "    }\n",
       "\n",
       "    .dataframe tbody tr th {\n",
       "        vertical-align: top;\n",
       "    }\n",
       "\n",
       "    .dataframe thead th {\n",
       "        text-align: right;\n",
       "    }\n",
       "</style>\n",
       "<table border=\"1\" class=\"dataframe\">\n",
       "  <thead>\n",
       "    <tr style=\"text-align: right;\">\n",
       "      <th></th>\n",
       "      <th>0</th>\n",
       "      <th>jaccard_coefficient</th>\n",
       "      <th>preferential_attachment</th>\n",
       "      <th>resource_allocation_index</th>\n",
       "    </tr>\n",
       "  </thead>\n",
       "  <tbody>\n",
       "    <tr>\n",
       "      <th>0</th>\n",
       "      <td>1.000000</td>\n",
       "      <td>0.543554</td>\n",
       "      <td>0.011689</td>\n",
       "      <td>0.254448</td>\n",
       "    </tr>\n",
       "    <tr>\n",
       "      <th>jaccard_coefficient</th>\n",
       "      <td>0.543554</td>\n",
       "      <td>1.000000</td>\n",
       "      <td>-0.015560</td>\n",
       "      <td>0.630806</td>\n",
       "    </tr>\n",
       "    <tr>\n",
       "      <th>preferential_attachment</th>\n",
       "      <td>0.011689</td>\n",
       "      <td>-0.015560</td>\n",
       "      <td>1.000000</td>\n",
       "      <td>0.030255</td>\n",
       "    </tr>\n",
       "    <tr>\n",
       "      <th>resource_allocation_index</th>\n",
       "      <td>0.254448</td>\n",
       "      <td>0.630806</td>\n",
       "      <td>0.030255</td>\n",
       "      <td>1.000000</td>\n",
       "    </tr>\n",
       "  </tbody>\n",
       "</table>\n",
       "</div>"
      ],
      "text/plain": [
       "                                  0  jaccard_coefficient  \\\n",
       "0                          1.000000             0.543554   \n",
       "jaccard_coefficient        0.543554             1.000000   \n",
       "preferential_attachment    0.011689            -0.015560   \n",
       "resource_allocation_index  0.254448             0.630806   \n",
       "\n",
       "                           preferential_attachment  resource_allocation_index  \n",
       "0                                         0.011689                   0.254448  \n",
       "jaccard_coefficient                      -0.015560                   0.630806  \n",
       "preferential_attachment                   1.000000                   0.030255  \n",
       "resource_allocation_index                 0.030255                   1.000000  "
      ]
     },
     "execution_count": 78,
     "metadata": {},
     "output_type": "execute_result"
    }
   ],
   "source": [
    "df_final.corr()"
   ]
  },
  {
   "cell_type": "markdown",
   "id": "76f9318d",
   "metadata": {},
   "source": [
    "<li><B>3(iiiα).</B> Χρησιμοποιήστε τον Random Forest Classifier και το αντίγραφο dataframe που κατασκευάσατε στο ερώτημα 3(ii), για να προβλέψετε συνδέσεις. Συμπληρώστε στον κώδικα: τα features ($X$), την target variable ($y$) και τα ορίσματα της συνάρτησης $fit$ για το training του μοντέλου.</li>\n",
    "<li><B>3(iiiβ).</B> Δώστε τις ($A.M$ $mod$ $10$) πρώτες προβλέψεις και την ακρίβεια ($accuracy$) του μοντέλου. </li>\n",
    "<li><B>3(iiiγ).</B>Υπολογίστε την πιθανότητα να συνδεθούν οι κόμβοι ($1$,$47$) βάσει του μοντέλου σας. </li>  "
   ]
  },
  {
   "cell_type": "code",
   "execution_count": 20,
   "id": "df4a65f5",
   "metadata": {},
   "outputs": [],
   "source": [
    "#uncomment whole cell\n",
    "#from sklearn.model_selection import train_test_split\n",
    "#from sklearn.ensemble import RandomForestClassifier\n",
    "#from sklearn.metrics import accuracy_score\n",
    "#from sklearn.model_selection import GridSearchCV\n",
    " \n",
    "#X =             #features, uncomment and complete\n",
    "#y = ...['link'] #target, uncomment and complete\n",
    "\n",
    "#X_train, X_test, y_train, y_test = train_test_split(, , random_state = 0) #uncomment and complete"
   ]
  },
  {
   "cell_type": "code",
   "execution_count": 21,
   "id": "26affc3a",
   "metadata": {},
   "outputs": [],
   "source": [
    "#uncomment whole cell\n",
    "#classifier = RandomForestClassifier()   \n",
    "\n",
    "#from sklearn.preprocessing import MinMaxScaler \n",
    "#mm_scaler = MinMaxScaler() \n",
    "#X_train_scaled = mm_scaler.fit_transform(X_train)\n",
    "#X_test_scaled = mm_scaler.transform(X_test)\n",
    "\n",
    "#parameters = {'n_estimators' : [10,50,100], 'max_depth' : [5,10,15]} \n",
    "#model = GridSearchCV(classifier, param_grid = parameters) "
   ]
  },
  {
   "cell_type": "code",
   "execution_count": 22,
   "id": "431e2d35",
   "metadata": {},
   "outputs": [],
   "source": [
    "#model.fit(X_train_scaled, )#train the model, uncomment and complete"
   ]
  },
  {
   "cell_type": "code",
   "execution_count": 23,
   "id": "1b075584",
   "metadata": {},
   "outputs": [],
   "source": [
    "#predictions = model.predict(X_test_scaled)       #uncomment\n",
    "#predictions[ ] #get (A.M. last digit) first predictions, uncomment and complete"
   ]
  },
  {
   "cell_type": "code",
   "execution_count": 24,
   "id": "b042eca7",
   "metadata": {},
   "outputs": [],
   "source": [
    "#predict_proba = model.predict_proba(...) #uncomment and complete"
   ]
  },
  {
   "cell_type": "markdown",
   "id": "f4c43988",
   "metadata": {},
   "source": [
    "<html><font size=4><B>4. Πρόβλεψη συνδέσμων με embedding βασισμένο σε τυχαίους περιπάτους (Random Walks) </B></font><BR><BR>\n",
    "    <li><B>4(i).</B> Εξάγετε τα χαρακτηριστικά (features) του γράφου $G'$, που προέκυψε από την αφαίρεση των ακμών. Για τον σκοπό αυτό χρησιμοποιήστε τον αλγόριθμο <B>Node2vec</B> <a href=\"https://cs.stanford.edu/~jure/pubs/node2vec-kdd16.pdf\">[3]</a>. Ο αλγόριθμος αντιστοιχίζει τους κόμβους του γράφου μέσω τυχαίων περιπάτων (biased 2nd order random walks) σε ένα χώρο μικρού αριθμού διαστάσεων (low dimensional space) διατηρώντας την μεταξύ τους γειτνίαση.\n",
    "        <BR>Για την επιλογή των παραμέτρων: \n",
    "            <li>p - παράμετρος τυχαίων περιπάτων p που καθορίζει την πιθανότητα “1/p” επιστροφής στον κόμβο προέλευσης (source node), </li>\n",
    "                <li>q - παράμετρος τυχαίων περιπάτων q που καθορίζει την πιθανότητα  “1/q” μετακίνησης σε κόμβο μακριά από τον κόμβο προέλευσης (source node), </li>\n",
    "                 <li>dimensions - πλήθος διαστάσεων των Node2Vec embeddings, </li>\n",
    "                     <li>num_walks - αριθμός περιπάτων από κάθε κόμβο, </li>\n",
    "                         <li>walk_length - μήκος τυχαίου περιπάτου, </li>\n",
    "                             <li>window_size - μέγεθος παραθύρου context για τον αλγόριθμο Word2Vec, </li><li>num_iter - αριθμός SGD επαναλήψεων (epochs), </li>\n",
    "            <li>workers - αριθμός workers για τον Word2Vec,</li>\n",
    "            χρησιμοποιήστε τις τιμές:   </html>\n",
    "   \n",
    "                   "
   ]
  },
  {
   "cell_type": "markdown",
   "id": "fdbc5274",
   "metadata": {},
   "source": [
    " |   p   |   q   | dimensions|  num_walks  |walk_length |window_size|        workers            |\n",
    " |-------|-------|-----------|-------------|------------|-----------|---------------------------|\n",
    " |  1.0  |  1.0  |  128      |     10      |    80      |     10    |multiprocessing.cpu_count()|"
   ]
  },
  {
   "cell_type": "code",
   "execution_count": 25,
   "id": "aa8e668d",
   "metadata": {},
   "outputs": [],
   "source": [
    "#install node2vec with conda / pip\n",
    "#from node2vec import Node2Vec   #uncomment\n",
    "#import multiprocessing          #uncomment\n",
    "\n",
    "#generate walks\n",
    "#node2vec_walker = Node2Vec(, , , , , , ) #uncomment and complete\n",
    "\n",
    "#train node2vec model\n",
    "#n2v_model = node2vec_walker.fit(window= , min_count=1) #uncomment and complete"
   ]
  },
  {
   "cell_type": "markdown",
   "id": "294f0aab",
   "metadata": {},
   "source": [
    "<html><font>\n",
    "    <li><B>4(ii).</B> Εφαρμόστε τον αλγόριθμο Random Forest Classifier, για να προβλέψετε τις συνδέσεις.</li><BR>\n",
    "    <li><B>4(iii).</B> Υπολογίστε την ακρίβεια ($accuracy$) του μοντέλου. </li><BR></font></html>"
   ]
  },
  {
   "cell_type": "code",
   "execution_count": 26,
   "id": "6269b89a",
   "metadata": {},
   "outputs": [],
   "source": [
    "#apply trained Node2Vec model on each node pair of the dataframe \"unconnected+removables\"\n",
    "#uncomment:\n",
    "#x = [(n2v_model.wv[str(i)]+n2v_model.wv[str(j)]) for i,j in zip(df_with_target_var['node_1'], df_with_target_var['node_2'])]"
   ]
  },
  {
   "cell_type": "code",
   "execution_count": 27,
   "id": "b74e7aa7",
   "metadata": {},
   "outputs": [],
   "source": [
    "#X_train, X_test, y_train, y_test = train_test_split(, , random_state = 0)  #uncomment and complete"
   ]
  },
  {
   "cell_type": "code",
   "execution_count": 28,
   "id": "e75cfde7",
   "metadata": {},
   "outputs": [],
   "source": [
    "#uncomment whole cell\n",
    "#from sklearn.ensemble import RandomForestClassifier\n",
    "#from sklearn.metrics import accuracy_score\n",
    "\n",
    "#classifier = RandomForestClassifier(max_depth=2, random_state=0) \n",
    "#classifier.fit()   #uncomment and complete"
   ]
  },
  {
   "cell_type": "markdown",
   "id": "a0c0b3bb",
   "metadata": {},
   "source": [
    "<html><font size=4> <B><U>Ερώτηση bonus (+10/100)</U><B>: </font>Για τους binary operators για learning των edge features με τον αλγόριθμο Node2Vec που αναφέρονται στο <a href=\"https://cs.stanford.edu/~jure/pubs/node2vec-kdd16.pdf\">[3]</a> ((α) Average, (β) Hadamard, (γ) Weighted-L1 και (δ) Weighted-L2) τροποποιήστε τoν κώδικά σας και σημειώστε τις παρατηρήσεις σας ως προς την απόδοση του αλγορίθμου.</font></html>"
   ]
  },
  {
   "cell_type": "markdown",
   "id": "8da3a402",
   "metadata": {},
   "source": [
    "<html><font size=4><B><U>Βιβλιογραφία:</U></B><BR></font>\n",
    "<a href=\"https://dl.acm.org/doi/10.1145/2487788.2488173\">[1]\tJérôme Kunegis. KONECT – The Koblenz Network Collection. In Proc. Int. Conf. on World Wide Web Companion, pages 1343–1350, 2013.</a><BR>\n",
    "<a href=\"https://link.springer.com/chapter/10.1007/978-3-540-76298-0_52\">[2]\tSören Auer, Christian Bizer, Georgi Kobilarov, Jens Lehmann, Richard Cyganiak, and Zachary Ives. DBpedia: A nucleus for a web of open data. In Proc. Int. Semant. Web Conf., pages 722–735, 2008.<BR>\n",
    "<a href=\"https://cs.stanford.edu/~jure/pubs/node2vec-kdd16.pdf\">[3] A. Grover, J. Leskovec, Node2vec: Scalable Feature Learning for Networks. ACM KDD, 2016.</a><BR>\n",
    " <a href=\"https://proceedings.neurips.cc/paper/2013/file/9aa42b31882ec039965f3c4923ce901b-Paper.pdf\">[4] T.Mikolov, I.Sutskever, K.Chen, G.S.Corrado and J.Dean, Distributed representations of words and phrases and their compositionality. In NIPS, 2013.</a><BR></font></html>"
   ]
  },
  {
   "cell_type": "code",
   "execution_count": null,
   "id": "89f16b76",
   "metadata": {},
   "outputs": [],
   "source": []
  }
 ],
 "metadata": {
  "kernelspec": {
   "display_name": "social",
   "language": "python",
   "name": "python3"
  },
  "language_info": {
   "codemirror_mode": {
    "name": "ipython",
    "version": 3
   },
   "file_extension": ".py",
   "mimetype": "text/x-python",
   "name": "python",
   "nbconvert_exporter": "python",
   "pygments_lexer": "ipython3",
   "version": "3.10.8"
  },
  "vscode": {
   "interpreter": {
    "hash": "90dc2e57230774dca268d46eb4d684b138ccead025797523f0e2ae6f7868bbaf"
   }
  }
 },
 "nbformat": 4,
 "nbformat_minor": 5
}
